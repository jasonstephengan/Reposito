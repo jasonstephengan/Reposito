{
 "cells": [
  {
   "cell_type": "code",
   "execution_count": 6,
   "id": "0c45dc39",
   "metadata": {},
   "outputs": [],
   "source": [
    "import requests\n",
    "import time\n",
    "\n",
    "num = 100\n",
    "url = \"http://api.open-notify.org/iss-now.json\"\n",
    "\n",
    "def iss_location():\n",
    "    info = requests.get(url)\n",
    "    dataset = info.json()\n",
    "    timestamp = dataset['timestamp']\n",
    "    latitude = float(dataset['iss_position']['latitude'])\n",
    "    longitude = float(dataset['iss_position']['longitude'])\n",
    "    return timestamp, latitude, longitude\n",
    "    \n",
    "data_points = []\n",
    "for i in range(num):\n",
    "    timestamp, latitude, longitude = iss_location()\n",
    "    data_points.append({\n",
    "        'timestamp': timestamp,\n",
    "        'latitude': latitude,\n",
    "        'longitude': longitude\n",
    "    })\n",
    "    time.sleep(10)\n",
    "        \n",
    "    \n",
    "\n"
   ]
  },
  {
   "cell_type": "code",
   "execution_count": 7,
   "id": "af861c3a",
   "metadata": {
    "scrolled": false
   },
   "outputs": [
    {
     "data": {
      "text/plain": [
       "[{'timestamp': 1688721335, 'latitude': 22.4081, 'longitude': -34.6372},\n",
       " {'timestamp': 1688721345, 'latitude': 21.9276, 'longitude': -34.2108},\n",
       " {'timestamp': 1688721356, 'latitude': 21.4217, 'longitude': -33.7665},\n",
       " {'timestamp': 1688721366, 'latitude': 20.9144, 'longitude': -33.3256},\n",
       " {'timestamp': 1688721377, 'latitude': 20.4057, 'longitude': -32.8879},\n",
       " {'timestamp': 1688721387, 'latitude': 19.8957, 'longitude': -32.4535},\n",
       " {'timestamp': 1688721398, 'latitude': 19.3844, 'longitude': -32.0221},\n",
       " {'timestamp': 1688721408, 'latitude': 18.8719, 'longitude': -31.5937},\n",
       " {'timestamp': 1688721419, 'latitude': 18.3582, 'longitude': -31.1682},\n",
       " {'timestamp': 1688721429, 'latitude': 17.8435, 'longitude': -30.7455},\n",
       " {'timestamp': 1688721440, 'latitude': 17.3274, 'longitude': -30.3254},\n",
       " {'timestamp': 1688721450, 'latitude': 16.8104, 'longitude': -29.908},\n",
       " {'timestamp': 1688721460, 'latitude': 16.3171, 'longitude': -29.5128},\n",
       " {'timestamp': 1688721471, 'latitude': 15.7983, 'longitude': -29.1003},\n",
       " {'timestamp': 1688721481, 'latitude': 15.2784, 'longitude': -28.6902},\n",
       " {'timestamp': 1688721492, 'latitude': 14.7577, 'longitude': -28.2822},\n",
       " {'timestamp': 1688721502, 'latitude': 14.2361, 'longitude': -27.8765},\n",
       " {'timestamp': 1688721513, 'latitude': 13.7136, 'longitude': -27.4728},\n",
       " {'timestamp': 1688721523, 'latitude': 13.2153, 'longitude': -27.0902},\n",
       " {'timestamp': 1688721533, 'latitude': 12.6914, 'longitude': -26.6904},\n",
       " {'timestamp': 1688721544, 'latitude': 12.1667, 'longitude': -26.2924},\n",
       " {'timestamp': 1688721554, 'latitude': 11.6413, 'longitude': -25.8961},\n",
       " {'timestamp': 1688721565, 'latitude': 11.1153, 'longitude': -25.5015},\n",
       " {'timestamp': 1688721575, 'latitude': 10.6137, 'longitude': -25.1272},\n",
       " {'timestamp': 1688721586, 'latitude': 10.0865, 'longitude': -24.7357},\n",
       " {'timestamp': 1688721596, 'latitude': 9.5587, 'longitude': -24.3455},\n",
       " {'timestamp': 1688721607, 'latitude': 9.0304, 'longitude': -23.9568},\n",
       " {'timestamp': 1688721617, 'latitude': 8.5016, 'longitude': -23.5693},\n",
       " {'timestamp': 1688721628, 'latitude': 7.9724, 'longitude': -23.1831},\n",
       " {'timestamp': 1688721638, 'latitude': 7.4679, 'longitude': -22.8162},\n",
       " {'timestamp': 1688721648, 'latitude': 6.9378, 'longitude': -22.432},\n",
       " {'timestamp': 1688721659, 'latitude': 6.4074, 'longitude': -22.0489},\n",
       " {'timestamp': 1688721669, 'latitude': 5.8766, 'longitude': -21.6666},\n",
       " {'timestamp': 1688721680, 'latitude': 5.3454, 'longitude': -21.2851},\n",
       " {'timestamp': 1688721690, 'latitude': 4.8392, 'longitude': -20.9224},\n",
       " {'timestamp': 1688721700, 'latitude': 4.3076, 'longitude': -20.5423},\n",
       " {'timestamp': 1688721711, 'latitude': 3.7757, 'longitude': -20.1628},\n",
       " {'timestamp': 1688721721, 'latitude': 3.2437, 'longitude': -19.7839},\n",
       " {'timestamp': 1688721732, 'latitude': 2.7114, 'longitude': -19.4054},\n",
       " {'timestamp': 1688721742, 'latitude': 2.1791, 'longitude': -19.0272},\n",
       " {'timestamp': 1688721752, 'latitude': 1.672, 'longitude': -18.6675},\n",
       " {'timestamp': 1688721763, 'latitude': 1.1394, 'longitude': -18.2898},\n",
       " {'timestamp': 1688721773, 'latitude': 0.6068, 'longitude': -17.9124},\n",
       " {'timestamp': 1688721784, 'latitude': 0.0742, 'longitude': -17.5351},\n",
       " {'timestamp': 1688721794, 'latitude': -0.4584, 'longitude': -17.1578},\n",
       " {'timestamp': 1688721805, 'latitude': -0.991, 'longitude': -16.7804},\n",
       " {'timestamp': 1688721815, 'latitude': -1.5235, 'longitude': -16.4029},\n",
       " {'timestamp': 1688721826, 'latitude': -2.0558, 'longitude': -16.0253},\n",
       " {'timestamp': 1688721836, 'latitude': -2.5628, 'longitude': -15.6653},\n",
       " {'timestamp': 1688721847, 'latitude': -3.1202, 'longitude': -15.269},\n",
       " {'timestamp': 1688721857, 'latitude': -3.6269, 'longitude': -14.9083},\n",
       " {'timestamp': 1688721867, 'latitude': -4.1587, 'longitude': -14.5291},\n",
       " {'timestamp': 1688721878, 'latitude': -4.6902, 'longitude': -14.1493},\n",
       " {'timestamp': 1688721888, 'latitude': -5.2215, 'longitude': -13.7689},\n",
       " {'timestamp': 1688721899, 'latitude': -5.7525, 'longitude': -13.3878},\n",
       " {'timestamp': 1688721909, 'latitude': -6.2831, 'longitude': -13.0059},\n",
       " {'timestamp': 1688721920, 'latitude': -6.8134, 'longitude': -12.6231},\n",
       " {'timestamp': 1688721931, 'latitude': -7.3433, 'longitude': -12.2394},\n",
       " {'timestamp': 1688721941, 'latitude': -7.8476, 'longitude': -11.873},\n",
       " {'timestamp': 1688721951, 'latitude': -8.3767, 'longitude': -11.4872},\n",
       " {'timestamp': 1688721962, 'latitude': -8.9053, 'longitude': -11.1003},\n",
       " {'timestamp': 1688721972, 'latitude': -9.4334, 'longitude': -10.7121},\n",
       " {'timestamp': 1688721983, 'latitude': -9.9609, 'longitude': -10.3227},\n",
       " {'timestamp': 1688721993, 'latitude': -10.4878, 'longitude': -9.9318},\n",
       " {'timestamp': 1688722004, 'latitude': -11.0141, 'longitude': -9.5395},\n",
       " {'timestamp': 1688722014, 'latitude': -11.5398, 'longitude': -9.1456},\n",
       " {'timestamp': 1688722024, 'latitude': -12.0398, 'longitude': -8.769},\n",
       " {'timestamp': 1688722035, 'latitude': -12.5642, 'longitude': -8.3718},\n",
       " {'timestamp': 1688722045, 'latitude': -13.0879, 'longitude': -7.9728},\n",
       " {'timestamp': 1688722056, 'latitude': -13.6107, 'longitude': -7.572},\n",
       " {'timestamp': 1688722066, 'latitude': -14.1327, 'longitude': -7.1692},\n",
       " {'timestamp': 1688722077, 'latitude': -14.6539, 'longitude': -6.7644},\n",
       " {'timestamp': 1688722087, 'latitude': -15.1743, 'longitude': -6.3574},\n",
       " {'timestamp': 1688722097, 'latitude': -15.669, 'longitude': -5.9678},\n",
       " {'timestamp': 1688722108, 'latitude': -16.1875, 'longitude': -5.5564},\n",
       " {'timestamp': 1688722118, 'latitude': -16.705, 'longitude': -5.1426},\n",
       " {'timestamp': 1688722129, 'latitude': -17.2215, 'longitude': -4.7263},\n",
       " {'timestamp': 1688722139, 'latitude': -17.7369, 'longitude': -4.3076},\n",
       " {'timestamp': 1688722149, 'latitude': -18.2267, 'longitude': -3.9062},\n",
       " {'timestamp': 1688722160, 'latitude': -18.74, 'longitude': -3.4821},\n",
       " {'timestamp': 1688722170, 'latitude': -19.252, 'longitude': -3.0551},\n",
       " {'timestamp': 1688722181, 'latitude': -19.7628, 'longitude': -2.6253},\n",
       " {'timestamp': 1688722191, 'latitude': -20.2725, 'longitude': -2.1923},\n",
       " {'timestamp': 1688722202, 'latitude': -20.7807, 'longitude': -1.7562},\n",
       " {'timestamp': 1688722212, 'latitude': -21.2876, 'longitude': -1.3169},\n",
       " {'timestamp': 1688722223, 'latitude': -21.7931, 'longitude': -0.8743},\n",
       " {'timestamp': 1688722233, 'latitude': -22.2972, 'longitude': -0.4282},\n",
       " {'timestamp': 1688722244, 'latitude': -22.7997, 'longitude': 0.0214},\n",
       " {'timestamp': 1688722254, 'latitude': -23.3007, 'longitude': 0.4746},\n",
       " {'timestamp': 1688722265, 'latitude': -23.8002, 'longitude': 0.9316},\n",
       " {'timestamp': 1688722276, 'latitude': -24.2979, 'longitude': 1.3924},\n",
       " {'timestamp': 1688722286, 'latitude': -24.7939, 'longitude': 1.8572},\n",
       " {'timestamp': 1688722297, 'latitude': -25.2883, 'longitude': 2.3261},\n",
       " {'timestamp': 1688722307, 'latitude': -25.7808, 'longitude': 2.7992},\n",
       " {'timestamp': 1688722318, 'latitude': -26.2715, 'longitude': 3.2765},\n",
       " {'timestamp': 1688722328, 'latitude': -26.7602, 'longitude': 3.7583},\n",
       " {'timestamp': 1688722339, 'latitude': -27.247, 'longitude': 4.2446},\n",
       " {'timestamp': 1688722349, 'latitude': -27.7088, 'longitude': 4.7121},\n",
       " {'timestamp': 1688722359, 'latitude': -28.1915, 'longitude': 5.2076},\n",
       " {'timestamp': 1688722370, 'latitude': -28.6722, 'longitude': 5.7079}]"
      ]
     },
     "execution_count": 7,
     "metadata": {},
     "output_type": "execute_result"
    }
   ],
   "source": [
    "data_points"
   ]
  },
  {
   "cell_type": "code",
   "execution_count": 8,
   "id": "82ba41a2",
   "metadata": {
    "scrolled": false
   },
   "outputs": [
    {
     "data": {
      "text/plain": [
       "<Figure size 800x600 with 0 Axes>"
      ]
     },
     "execution_count": 8,
     "metadata": {},
     "output_type": "execute_result"
    },
    {
     "data": {
      "image/png": "[encoded data removed]",
      "text/plain": [
       "<Figure size 640x480 with 1 Axes>"
      ]
     },
     "metadata": {},
     "output_type": "display_data"
    },
    {
     "data": {
      "text/plain": [
       "<Figure size 800x600 with 0 Axes>"
      ]
     },
     "metadata": {},
     "output_type": "display_data"
    }
   ],
   "source": [
    "import matplotlib.pyplot as plt\n",
    "latitude = [data['latitude'] for data in data_points]\n",
    "longitude = [data['longitude'] for data in data_points]\n",
    "\n",
    "\n",
    "\n",
    "plt.plot(latitude, longitude)\n",
    "x_ticks = range(-30, 30, 10)\n",
    "x_labels = [str(tick) for tick in x_ticks]\n",
    "y_ticks = range(-40, 10, 10)\n",
    "y_labels = [str(tick) for tick in y_ticks]\n",
    "plt.yticks(y_ticks,y_labels)\n",
    "plt.xticks(x_ticks,x_labels)\n",
    "plt.xlabel('Latitude')\n",
    "plt.ylabel('Longitude')\n",
    "plt.figure(figsize=(8, 6))\n",
    "\n",
    "\n",
    "\n",
    "\n"
   ]
  },
  {
   "cell_type": "code",
   "execution_count": null,
   "id": "59d51679",
   "metadata": {},
   "outputs": [],
   "source": []
  }
 ],
 "metadata": {
  "kernelspec": {
   "display_name": "Python 3 (ipykernel)",
   "language": "python",
   "name": "python3"
  },
  "language_info": {
   "codemirror_mode": {
    "name": "ipython",
    "version": 3
   },
   "file_extension": ".py",
   "mimetype": "text/x-python",
   "name": "python",
   "nbconvert_exporter": "python",
   "pygments_lexer": "ipython3",
   "version": "3.10.9"
  }
 },
 "nbformat": 4,
 "nbformat_minor": 5
}
